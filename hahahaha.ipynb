{
 "cells": [
  {
   "cell_type": "markdown",
   "id": "79cf78ef-4b72-4860-aa36-d7e945c2c650",
   "metadata": {},
   "source": [
    "<center><img src=\"https://upload.wikimedia.org/wikipedia/commons/thumb/1/13/Logo_Universitas_Nusa_Putra.png/479px-Logo_Universitas_Nusa_Putra.png\" width=\"200\"></center><br> <b>LOGO <b/>TERSEBUT ADALAH?\n",
    "<ol>\n",
    "    <li>Nusa Putra</li>\n",
    "    <li>Intitut Teknologi Bandung</li>\n",
    "    <li>Universitas Gajah Mada</li>\n",
    "    <li>SMKN 1 Gunung Guruh</li>\n",
    "</ol>\n",
    "<hr>\n"
   ]
  },
  {
   "cell_type": "markdown",
   "id": "006624a4-a571-4aad-a969-6930a6204d78",
   "metadata": {},
   "source": [
    "Cara menambah Cell ada 2:\n",
    "<ul>\n",
    "    <li>Above (A)</li>\n",
    "    <li>Below (B)</li>\n",
    "</ul>\n",
    "\n",
    "<table>\n",
    "    <tr>\n",
    "        <td>PERINTAH</td>\n",
    "        <td>KETERANGAN</td>\n",
    "    </tr>\n",
    "    <tr>\n",
    "        <td>Shift + Enter</td>\n",
    "        <td>Runing Dan Fokus Di Cell Berikutnya</td>\n",
    "    </tr>\n",
    "        <td>Shift + Enter </td>\n",
    "        <td>Runing Dan Fokus Di Cell</td>\n",
    "    <tr></tr>\n",
    "</table>"
   ]
  },
  {
   "cell_type": "code",
   "execution_count": 28,
   "id": "611ca913-21c9-419f-bfef-0629c0cfae8a",
   "metadata": {},
   "outputs": [
    {
     "name": "stdout",
     "output_type": "stream",
     "text": [
      "phyton is very easy\n",
      "5\n",
      "sekarang hari jumat\n",
      "deklarasikan variabel \"A\"\n",
      "25\n",
      "20\n"
     ]
    },
    {
     "data": {
      "text/plain": [
       "105"
      ]
     },
     "execution_count": 28,
     "metadata": {},
     "output_type": "execute_result"
    }
   ],
   "source": [
    "print(\"phyton is very easy\")\n",
    "data=5\n",
    "data2=20\n",
    "print(data)\n",
    "print(\"sekarang hari jumat\")\n",
    "print('deklarasikan variabel \"A\"')\n",
    "print(data + int(data2))\n",
    "print(data2)\n",
    "data2\n",
    "data + 100\n"
   ]
  }
 ],
 "metadata": {
  "kernelspec": {
   "display_name": "Python 3 (ipykernel)",
   "language": "python",
   "name": "python3"
  },
  "language_info": {
   "codemirror_mode": {
    "name": "ipython",
    "version": 3
   },
   "file_extension": ".py",
   "mimetype": "text/x-python",
   "name": "python",
   "nbconvert_exporter": "python",
   "pygments_lexer": "ipython3",
   "version": "3.9.12"
  }
 },
 "nbformat": 4,
 "nbformat_minor": 5
}
